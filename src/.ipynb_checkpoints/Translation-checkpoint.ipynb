{
 "cells": [
  {
   "cell_type": "code",
   "execution_count": 1,
   "id": "646ee5ae",
   "metadata": {},
   "outputs": [],
   "source": [
    "# 크롤링\n",
    "from selenium import webdriver\n",
    "from selenium.webdriver.chrome.options import Options\n",
    "from selenium.webdriver.common.desired_capabilities import DesiredCapabilities\n",
    "from selenium.webdriver.common.by import By\n",
    "from selenium.webdriver.common.keys import Keys\n",
    "from selenium.webdriver.chrome.service import Service\n",
    "from webdriver_manager.chrome import ChromeDriverManager\n",
    "\n",
    "import time\n",
    "\n",
    "# 전처리\n",
    "import pandas as pd\n",
    "import warnings\n",
    "warnings.filterwarnings(action='ignore')"
   ]
  },
  {
   "cell_type": "code",
   "execution_count": 2,
   "id": "1428dc8d",
   "metadata": {},
   "outputs": [
    {
     "data": {
      "text/html": [
       "<div>\n",
       "<style scoped>\n",
       "    .dataframe tbody tr th:only-of-type {\n",
       "        vertical-align: middle;\n",
       "    }\n",
       "\n",
       "    .dataframe tbody tr th {\n",
       "        vertical-align: top;\n",
       "    }\n",
       "\n",
       "    .dataframe thead th {\n",
       "        text-align: right;\n",
       "    }\n",
       "</style>\n",
       "<table border=\"1\" class=\"dataframe\">\n",
       "  <thead>\n",
       "    <tr style=\"text-align: right;\">\n",
       "      <th></th>\n",
       "      <th>content</th>\n",
       "      <th>label</th>\n",
       "    </tr>\n",
       "  </thead>\n",
       "  <tbody>\n",
       "    <tr>\n",
       "      <th>0</th>\n",
       "      <td>AI 이미지 생성기의 무분별한 사용과 악용을 막기 위한 법적 규제에 관한 청원 AI...</td>\n",
       "      <td>1</td>\n",
       "    </tr>\n",
       "    <tr>\n",
       "      <th>1</th>\n",
       "      <td>아동학대살인 가해자의 엄벌과 신상공개에 관한 청원 저는 얼마전 아동학대로 살해당한 ...</td>\n",
       "      <td>1</td>\n",
       "    </tr>\n",
       "    <tr>\n",
       "      <th>2</th>\n",
       "      <td>중도금 가산금리 인하 및 시스템 개편에 관한 청원 정부에서 지역별 중도금 가산금리에...</td>\n",
       "      <td>1</td>\n",
       "    </tr>\n",
       "    <tr>\n",
       "      <th>3</th>\n",
       "      <td>한전은 공기업, 송전시장 민영화 반대에 관한 청원 자금난으로 인한 민간에 송전시장을...</td>\n",
       "      <td>1</td>\n",
       "    </tr>\n",
       "    <tr>\n",
       "      <th>4</th>\n",
       "      <td>12년간 당한 학교폭력에 관한 청원 저는 OO초등학교 2003년 입학, OO초등학교...</td>\n",
       "      <td>1</td>\n",
       "    </tr>\n",
       "  </tbody>\n",
       "</table>\n",
       "</div>"
      ],
      "text/plain": [
       "                                             content  label\n",
       "0  AI 이미지 생성기의 무분별한 사용과 악용을 막기 위한 법적 규제에 관한 청원 AI...      1\n",
       "1  아동학대살인 가해자의 엄벌과 신상공개에 관한 청원 저는 얼마전 아동학대로 살해당한 ...      1\n",
       "2  중도금 가산금리 인하 및 시스템 개편에 관한 청원 정부에서 지역별 중도금 가산금리에...      1\n",
       "3  한전은 공기업, 송전시장 민영화 반대에 관한 청원 자금난으로 인한 민간에 송전시장을...      1\n",
       "4  12년간 당한 학교폭력에 관한 청원 저는 OO초등학교 2003년 입학, OO초등학교...      1"
      ]
     },
     "execution_count": 2,
     "metadata": {},
     "output_type": "execute_result"
    }
   ],
   "source": [
    "df = pd.read_csv('../data/Petition_data_advised.csv')\n",
    "df.head()"
   ]
  },
  {
   "cell_type": "code",
   "execution_count": 3,
   "id": "487778de",
   "metadata": {},
   "outputs": [],
   "source": [
    "# 옵션 생성\n",
    "options = webdriver.ChromeOptions()\n",
    "\n",
    "# # 창 숨기는 옵션 추가\n",
    "# options.add_argument(\"headless\")\n",
    "\n",
    "# 크롬 버전에 따라 드라이버를 업데이트해주는 ChromeDriverManager\n",
    "chrome_driver = ChromeDriverManager().install()\n",
    "service = Service(chrome_driver)\n",
    "\n",
    "# ChromeDriverManager를 사용하여 더 편하게 selenium실행 가능\n",
    "driver = webdriver.Chrome(chrome_driver, options=options, service = service)\n",
    "\n",
    "# 페이지 로드 기다리기X\n",
    "caps = DesiredCapabilities().CHROME\n",
    "caps[\"pageLoadStrategy\"] = \"none\""
   ]
  },
  {
   "cell_type": "code",
   "execution_count": 4,
   "id": "a2a4b338",
   "metadata": {},
   "outputs": [],
   "source": [
    "# 영어가 아닌 문장을 파파고를 통해서 영어로 번역\n",
    "def papago(question):    \n",
    "    # 파파고로 이동\n",
    "    driver.get('https://papago.naver.com/?sk=ko&tk=en')\n",
    "    time.sleep(1)\n",
    "    \n",
    "    # 번역할 문장을 올려줌\n",
    "    form = driver.find_element(By.CSS_SELECTOR, \"textarea#txtSource\")\n",
    "    form.send_keys(question)\n",
    "    time.sleep(3)\n",
    "    \n",
    "    # 번역 시작\n",
    "    button = driver.find_element(By.CSS_SELECTOR, \"button#btnTranslate\")\n",
    "    button.click()\n",
    "    \n",
    "    # 번역 완료 문장을 리턴\n",
    "    result = driver.find_element(By.CSS_SELECTOR, \"div#txtTarget\")\n",
    "    \n",
    "    while True:\n",
    "        if result.text == '':\n",
    "            time.sleep(0.5)\n",
    "        else:\n",
    "            break\n",
    "    \n",
    "    return result.text"
   ]
  },
  {
   "cell_type": "code",
   "execution_count": 5,
   "id": "945b26c0",
   "metadata": {},
   "outputs": [],
   "source": [
    "df['content_eng'] = df['content'].apply(papago)"
   ]
  },
  {
   "cell_type": "code",
   "execution_count": 6,
   "id": "1a752656",
   "metadata": {},
   "outputs": [],
   "source": [
    "df.to_csv('../data/Petition_data_english.csv', index = False)"
   ]
  }
 ],
 "metadata": {
  "kernelspec": {
   "display_name": "Pyhon3.9_spare",
   "language": "python",
   "name": "spare"
  },
  "language_info": {
   "codemirror_mode": {
    "name": "ipython",
    "version": 3
   },
   "file_extension": ".py",
   "mimetype": "text/x-python",
   "name": "python",
   "nbconvert_exporter": "python",
   "pygments_lexer": "ipython3",
   "version": "3.9.12"
  }
 },
 "nbformat": 4,
 "nbformat_minor": 5
}
