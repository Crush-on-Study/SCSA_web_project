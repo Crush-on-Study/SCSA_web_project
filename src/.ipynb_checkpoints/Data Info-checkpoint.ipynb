{
 "cells": [
  {
   "cell_type": "code",
   "execution_count": 1,
   "id": "2474600c",
   "metadata": {},
   "outputs": [],
   "source": [
    "import numpy as np\n",
    "import pandas as pd\n",
    "import matplotlib.pyplot as plt\n",
    "import seaborn as sns"
   ]
  },
  {
   "cell_type": "code",
   "execution_count": 2,
   "id": "6df51c9b",
   "metadata": {},
   "outputs": [
    {
     "data": {
      "text/html": [
       "<div>\n",
       "<style scoped>\n",
       "    .dataframe tbody tr th:only-of-type {\n",
       "        vertical-align: middle;\n",
       "    }\n",
       "\n",
       "    .dataframe tbody tr th {\n",
       "        vertical-align: top;\n",
       "    }\n",
       "\n",
       "    .dataframe thead th {\n",
       "        text-align: right;\n",
       "    }\n",
       "</style>\n",
       "<table border=\"1\" class=\"dataframe\">\n",
       "  <thead>\n",
       "    <tr style=\"text-align: right;\">\n",
       "      <th></th>\n",
       "      <th>title</th>\n",
       "      <th>contents</th>\n",
       "      <th>like</th>\n",
       "      <th>types</th>\n",
       "    </tr>\n",
       "  </thead>\n",
       "  <tbody>\n",
       "    <tr>\n",
       "      <th>0</th>\n",
       "      <td>AI 이미지 생성기의 무분별한 사용과 악용을 막기 위한 법적 규제에 관한 청원</td>\n",
       "      <td>AI 이미지 생성기의 개발은 콘텐츠 산업을 새로운 혁신을 가져다 줄 큰 잠재력을 가...</td>\n",
       "      <td>50000</td>\n",
       "      <td>문화/체육/관광/언론</td>\n",
       "    </tr>\n",
       "    <tr>\n",
       "      <th>1</th>\n",
       "      <td>아동학대살인 가해자의 엄벌과 신상공개에 관한 청원</td>\n",
       "      <td>저는 얼마전 아동학대로 살해당한 한 아이의 삼촌입니다\\r\\n아동학대 사건의 형량 상...</td>\n",
       "      <td>50000</td>\n",
       "      <td>수사/법무/사법제도</td>\n",
       "    </tr>\n",
       "    <tr>\n",
       "      <th>2</th>\n",
       "      <td>중도금 가산금리 인하 및 시스템 개편에 관한 청원</td>\n",
       "      <td>정부에서 지역별 중도금 가산금리에 대한 차등을 두는것을 아시는지요?\\r\\n은행에서는...</td>\n",
       "      <td>50000</td>\n",
       "      <td>재정/세제/금융/예산</td>\n",
       "    </tr>\n",
       "    <tr>\n",
       "      <th>3</th>\n",
       "      <td>한전은 공기업, 송전시장 민영화 반대에 관한 청원</td>\n",
       "      <td>자금난으로 인한 민간에 송전시장을 민영화보다 차라리 전기요금을 올리세요!\\r\\n\\r...</td>\n",
       "      <td>50000</td>\n",
       "      <td>산업/통상</td>\n",
       "    </tr>\n",
       "    <tr>\n",
       "      <th>4</th>\n",
       "      <td>12년간 당한 학교폭력에 관한 청원</td>\n",
       "      <td>저는 OO초등학교 2003년 입학, OO초등학교에서 2005년 3학년 무렵 OOOO...</td>\n",
       "      <td>50000</td>\n",
       "      <td>수사/법무/사법제도</td>\n",
       "    </tr>\n",
       "  </tbody>\n",
       "</table>\n",
       "</div>"
      ],
      "text/plain": [
       "                                         title  \\\n",
       "0  AI 이미지 생성기의 무분별한 사용과 악용을 막기 위한 법적 규제에 관한 청원   \n",
       "1                  아동학대살인 가해자의 엄벌과 신상공개에 관한 청원   \n",
       "2                  중도금 가산금리 인하 및 시스템 개편에 관한 청원   \n",
       "3                  한전은 공기업, 송전시장 민영화 반대에 관한 청원   \n",
       "4                          12년간 당한 학교폭력에 관한 청원   \n",
       "\n",
       "                                            contents   like        types  \n",
       "0  AI 이미지 생성기의 개발은 콘텐츠 산업을 새로운 혁신을 가져다 줄 큰 잠재력을 가...  50000  문화/체육/관광/언론  \n",
       "1  저는 얼마전 아동학대로 살해당한 한 아이의 삼촌입니다\\r\\n아동학대 사건의 형량 상...  50000   수사/법무/사법제도  \n",
       "2  정부에서 지역별 중도금 가산금리에 대한 차등을 두는것을 아시는지요?\\r\\n은행에서는...  50000  재정/세제/금융/예산  \n",
       "3  자금난으로 인한 민간에 송전시장을 민영화보다 차라리 전기요금을 올리세요!\\r\\n\\r...  50000        산업/통상  \n",
       "4  저는 OO초등학교 2003년 입학, OO초등학교에서 2005년 3학년 무렵 OOOO...  50000   수사/법무/사법제도  "
      ]
     },
     "execution_count": 2,
     "metadata": {},
     "output_type": "execute_result"
    }
   ],
   "source": [
    "data = pd.read_csv('../data/Petition_data_add_type.csv')\n",
    "data.head()"
   ]
  },
  {
   "cell_type": "code",
   "execution_count": 3,
   "id": "50ff3bd7",
   "metadata": {},
   "outputs": [
    {
     "data": {
      "text/plain": [
       "title       0\n",
       "contents    0\n",
       "like        0\n",
       "types       0\n",
       "dtype: int64"
      ]
     },
     "execution_count": 3,
     "metadata": {},
     "output_type": "execute_result"
    }
   ],
   "source": [
    "data.isna().sum()"
   ]
  },
  {
   "cell_type": "code",
   "execution_count": 4,
   "id": "85b0e8d9",
   "metadata": {},
   "outputs": [
    {
     "data": {
      "text/plain": [
       "보건의료                 90\n",
       "수사/법무/사법제도           58\n",
       "국토/해양/교통             51\n",
       "행정/지방자치              44\n",
       "교육                   38\n",
       "재정/세제/금융/예산          32\n",
       "산업/통상                26\n",
       "재난/안전/환경             26\n",
       "기타                   25\n",
       "인권/성평등/노동            22\n",
       "농업/임업/수산업/축산업        21\n",
       "문화/체육/관광/언론          19\n",
       "복지/보훈                19\n",
       "외교/통일/국방/안보          18\n",
       "정치/선거/국회운영           16\n",
       "과학기술/정보통신            13\n",
       "소비자/공정거래             11\n",
       "저출산/고령화/아동/청소년/가족    10\n",
       "Name: types, dtype: int64"
      ]
     },
     "execution_count": 4,
     "metadata": {},
     "output_type": "execute_result"
    }
   ],
   "source": [
    "data['types'].value_counts()"
   ]
  },
  {
   "cell_type": "code",
   "execution_count": 8,
   "id": "89fab2c5",
   "metadata": {},
   "outputs": [],
   "source": [
    "import re\n",
    "def remove_newline(x):\n",
    "    x = x.replace('\\n', ' ')\n",
    "    x = re.sub('\\r', '', x)\n",
    "    x = re.sub('\\n', '', x)\n",
    "    return x"
   ]
  },
  {
   "cell_type": "code",
   "execution_count": 9,
   "id": "d6a966f8",
   "metadata": {},
   "outputs": [
    {
     "data": {
      "text/html": [
       "<div>\n",
       "<style scoped>\n",
       "    .dataframe tbody tr th:only-of-type {\n",
       "        vertical-align: middle;\n",
       "    }\n",
       "\n",
       "    .dataframe tbody tr th {\n",
       "        vertical-align: top;\n",
       "    }\n",
       "\n",
       "    .dataframe thead th {\n",
       "        text-align: right;\n",
       "    }\n",
       "</style>\n",
       "<table border=\"1\" class=\"dataframe\">\n",
       "  <thead>\n",
       "    <tr style=\"text-align: right;\">\n",
       "      <th></th>\n",
       "      <th>title</th>\n",
       "      <th>content</th>\n",
       "      <th>types</th>\n",
       "      <th>like</th>\n",
       "    </tr>\n",
       "  </thead>\n",
       "  <tbody>\n",
       "    <tr>\n",
       "      <th>0</th>\n",
       "      <td>AI 이미지 생성기의 무분별한 사용과 악용을 막기 위한 법적 규제에 관한 청원</td>\n",
       "      <td>AI 이미지 생성기의 개발은 콘텐츠 산업을 새로운 혁신을 가져다 줄 큰 잠재력을 가...</td>\n",
       "      <td>문화/체육/관광/언론</td>\n",
       "      <td>50000</td>\n",
       "    </tr>\n",
       "    <tr>\n",
       "      <th>1</th>\n",
       "      <td>아동학대살인 가해자의 엄벌과 신상공개에 관한 청원</td>\n",
       "      <td>저는 얼마전 아동학대로 살해당한 한 아이의 삼촌입니다 아동학대 사건의 형량 상한 법...</td>\n",
       "      <td>수사/법무/사법제도</td>\n",
       "      <td>50000</td>\n",
       "    </tr>\n",
       "    <tr>\n",
       "      <th>2</th>\n",
       "      <td>중도금 가산금리 인하 및 시스템 개편에 관한 청원</td>\n",
       "      <td>정부에서 지역별 중도금 가산금리에 대한 차등을 두는것을 아시는지요? 은행에서는 신용...</td>\n",
       "      <td>재정/세제/금융/예산</td>\n",
       "      <td>50000</td>\n",
       "    </tr>\n",
       "    <tr>\n",
       "      <th>3</th>\n",
       "      <td>한전은 공기업, 송전시장 민영화 반대에 관한 청원</td>\n",
       "      <td>자금난으로 인한 민간에 송전시장을 민영화보다 차라리 전기요금을 올리세요!  한번 민...</td>\n",
       "      <td>산업/통상</td>\n",
       "      <td>50000</td>\n",
       "    </tr>\n",
       "    <tr>\n",
       "      <th>4</th>\n",
       "      <td>12년간 당한 학교폭력에 관한 청원</td>\n",
       "      <td>저는 OO초등학교 2003년 입학, OO초등학교에서 2005년 3학년 무렵 OOOO...</td>\n",
       "      <td>수사/법무/사법제도</td>\n",
       "      <td>50000</td>\n",
       "    </tr>\n",
       "  </tbody>\n",
       "</table>\n",
       "</div>"
      ],
      "text/plain": [
       "                                         title  \\\n",
       "0  AI 이미지 생성기의 무분별한 사용과 악용을 막기 위한 법적 규제에 관한 청원   \n",
       "1                  아동학대살인 가해자의 엄벌과 신상공개에 관한 청원   \n",
       "2                  중도금 가산금리 인하 및 시스템 개편에 관한 청원   \n",
       "3                  한전은 공기업, 송전시장 민영화 반대에 관한 청원   \n",
       "4                          12년간 당한 학교폭력에 관한 청원   \n",
       "\n",
       "                                             content        types   like  \n",
       "0  AI 이미지 생성기의 개발은 콘텐츠 산업을 새로운 혁신을 가져다 줄 큰 잠재력을 가...  문화/체육/관광/언론  50000  \n",
       "1  저는 얼마전 아동학대로 살해당한 한 아이의 삼촌입니다 아동학대 사건의 형량 상한 법...   수사/법무/사법제도  50000  \n",
       "2  정부에서 지역별 중도금 가산금리에 대한 차등을 두는것을 아시는지요? 은행에서는 신용...  재정/세제/금융/예산  50000  \n",
       "3  자금난으로 인한 민간에 송전시장을 민영화보다 차라리 전기요금을 올리세요!  한번 민...        산업/통상  50000  \n",
       "4  저는 OO초등학교 2003년 입학, OO초등학교에서 2005년 3학년 무렵 OOOO...   수사/법무/사법제도  50000  "
      ]
     },
     "execution_count": 9,
     "metadata": {},
     "output_type": "execute_result"
    }
   ],
   "source": [
    "data['content'] = data['contents'].apply(remove_newline)\n",
    "data = data.loc[:, ['title', 'content', 'types', 'like']]\n",
    "data.head()"
   ]
  },
  {
   "cell_type": "code",
   "execution_count": 41,
   "id": "a35b5eb3",
   "metadata": {},
   "outputs": [],
   "source": [
    "def sort_columns(col_name):\n",
    "    new_data = data[data['types'] == col_name].sort_values('like', ascending = False)\n",
    "    mean_value = new_data['like'].mean()\n",
    "    new_data = new_data.iloc[0]\n",
    "    return col_name, new_data['title'], new_data['content'], new_data['like'], int(mean_value)"
   ]
  },
  {
   "cell_type": "code",
   "execution_count": 42,
   "id": "ee10155e",
   "metadata": {},
   "outputs": [],
   "source": [
    "unique_col = data['types'].unique().tolist()"
   ]
  },
  {
   "cell_type": "code",
   "execution_count": 45,
   "id": "e9809c5e",
   "metadata": {},
   "outputs": [],
   "source": [
    "type_names, titles, contents, likes, means = [], [], [], [], []\n",
    "for col in unique_col:\n",
    "    type_name, title, content, like, mean = sort_columns(col)\n",
    "    type_names.append(type_name); titles.append(title); contents.append(content); likes.append(like); means.append(mean)"
   ]
  },
  {
   "cell_type": "code",
   "execution_count": 49,
   "id": "0f53a629",
   "metadata": {},
   "outputs": [],
   "source": [
    "data_info = pd.DataFrame({'type': type_names, 'title': titles, 'content': contents, 'like': likes, 'mean': means})\n",
    "data_info.to_csv('../data/data_info.csv', index = False)"
   ]
  }
 ],
 "metadata": {
  "kernelspec": {
   "display_name": "Pyhon3.9_spare",
   "language": "python",
   "name": "spare"
  },
  "language_info": {
   "codemirror_mode": {
    "name": "ipython",
    "version": 3
   },
   "file_extension": ".py",
   "mimetype": "text/x-python",
   "name": "python",
   "nbconvert_exporter": "python",
   "pygments_lexer": "ipython3",
   "version": "3.9.12"
  }
 },
 "nbformat": 4,
 "nbformat_minor": 5
}
