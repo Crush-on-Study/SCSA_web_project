{
 "cells": [
  {
   "cell_type": "markdown",
   "metadata": {
    "id": "GlGteG2tMIfo"
   },
   "source": [
    "# Install Package"
   ]
  },
  {
   "cell_type": "code",
   "execution_count": null,
   "metadata": {
    "id": "Ta7eGGAAMLGG"
   },
   "outputs": [],
   "source": [
    "# 아래 환경 설치 후 반드시 런타임 재시작 할것\n",
    "!pip install konlpy\n",
    "!git clone https://github.com/SOMJANG/Mecab-ko-for-Google-Colab.git\n",
    "%cd Mecab-ko-for-Google-Colab\n",
    "!bash install_mecab-ko_on_colab190912.sh\n",
    "!pip install mecab-python3"
   ]
  },
  {
   "cell_type": "markdown",
   "metadata": {
    "id": "_6GZFh56MFkP"
   },
   "source": [
    "# Import Module"
   ]
  },
  {
   "cell_type": "code",
   "execution_count": 1,
   "metadata": {
    "executionInfo": {
     "elapsed": 4991,
     "status": "ok",
     "timestamp": 1683595418268,
     "user": {
      "displayName": "지윤혁",
      "userId": "04177548454162400970"
     },
     "user_tz": -540
    },
    "id": "lukX4h4iEHrN"
   },
   "outputs": [],
   "source": [
    "# 기본 패키지\n",
    "import os\n",
    "import numpy as np\n",
    "import pandas as pd\n",
    "from tqdm import tqdm\n",
    "\n",
    "# 시각화 패키지\n",
    "import matplotlib.pyplot as plt\n",
    "import seaborn as sns\n",
    "\n",
    "# 정규화 패키지\n",
    "import re\n",
    "\n",
    "# 모델링 패키지\n",
    "import tensorflow as tf\n",
    "from sklearn.model_selection import train_test_split\n",
    "from tensorflow.keras.layers import Embedding, Dense, LSTM, Bidirectional\n",
    "from tensorflow.keras.models import Sequential\n",
    "from tensorflow.keras.callbacks import ModelCheckpoint, EarlyStopping\n",
    "\n",
    "# NLP 패키지\n",
    "from konlpy.tag import Okt, Mecab\n",
    "from tensorflow.keras.preprocessing.text import Tokenizer\n",
    "from tensorflow.keras.preprocessing.sequence import pad_sequences\n",
    "\n",
    "# 경고무시\n",
    "import warnings\n",
    "warnings.filterwarnings('ignore')"
   ]
  },
  {
   "cell_type": "markdown",
   "metadata": {
    "id": "cAapFZF3TTRg"
   },
   "source": [
    "# Load Data"
   ]
  },
  {
   "cell_type": "code",
   "execution_count": 2,
   "metadata": {
    "colab": {
     "base_uri": "https://localhost:8080/",
     "height": 206
    },
    "executionInfo": {
     "elapsed": 283,
     "status": "ok",
     "timestamp": 1683595422415,
     "user": {
      "displayName": "지윤혁",
      "userId": "04177548454162400970"
     },
     "user_tz": -540
    },
    "id": "JbuiFfAOH1Rg",
    "outputId": "110ad562-6229-4d66-e25c-e18a1e795b95"
   },
   "outputs": [
    {
     "data": {
      "text/html": [
       "\n",
       "  <div id=\"df-91cd0eff-2b39-4aff-a63d-fcb259af52f7\">\n",
       "    <div class=\"colab-df-container\">\n",
       "      <div>\n",
       "<style scoped>\n",
       "    .dataframe tbody tr th:only-of-type {\n",
       "        vertical-align: middle;\n",
       "    }\n",
       "\n",
       "    .dataframe tbody tr th {\n",
       "        vertical-align: top;\n",
       "    }\n",
       "\n",
       "    .dataframe thead th {\n",
       "        text-align: right;\n",
       "    }\n",
       "</style>\n",
       "<table border=\"1\" class=\"dataframe\">\n",
       "  <thead>\n",
       "    <tr style=\"text-align: right;\">\n",
       "      <th></th>\n",
       "      <th>content</th>\n",
       "      <th>label</th>\n",
       "    </tr>\n",
       "  </thead>\n",
       "  <tbody>\n",
       "    <tr>\n",
       "      <th>0</th>\n",
       "      <td>AI 이미지 생성기의 무분별한 사용과 악용을 막기 위한 법적 규제에 관한 청원 AI...</td>\n",
       "      <td>1</td>\n",
       "    </tr>\n",
       "    <tr>\n",
       "      <th>1</th>\n",
       "      <td>아동학대살인 가해자의 엄벌과 신상공개에 관한 청원 저는 얼마전 아동학대로 살해당한 ...</td>\n",
       "      <td>1</td>\n",
       "    </tr>\n",
       "    <tr>\n",
       "      <th>2</th>\n",
       "      <td>중도금 가산금리 인하 및 시스템 개편에 관한 청원 정부에서 지역별 중도금 가산금리에...</td>\n",
       "      <td>1</td>\n",
       "    </tr>\n",
       "    <tr>\n",
       "      <th>3</th>\n",
       "      <td>한전은 공기업, 송전시장 민영화 반대에 관한 청원 자금난으로 인한 민간에 송전시장을...</td>\n",
       "      <td>1</td>\n",
       "    </tr>\n",
       "    <tr>\n",
       "      <th>4</th>\n",
       "      <td>12년간 당한 학교폭력에 관한 청원 저는 OO초등학교 2003년 입학, OO초등학교...</td>\n",
       "      <td>1</td>\n",
       "    </tr>\n",
       "  </tbody>\n",
       "</table>\n",
       "</div>\n",
       "      <button class=\"colab-df-convert\" onclick=\"convertToInteractive('df-91cd0eff-2b39-4aff-a63d-fcb259af52f7')\"\n",
       "              title=\"Convert this dataframe to an interactive table.\"\n",
       "              style=\"display:none;\">\n",
       "        \n",
       "  <svg xmlns=\"http://www.w3.org/2000/svg\" height=\"24px\"viewBox=\"0 0 24 24\"\n",
       "       width=\"24px\">\n",
       "    <path d=\"M0 0h24v24H0V0z\" fill=\"none\"/>\n",
       "    <path d=\"M18.56 5.44l.94 2.06.94-2.06 2.06-.94-2.06-.94-.94-2.06-.94 2.06-2.06.94zm-11 1L8.5 8.5l.94-2.06 2.06-.94-2.06-.94L8.5 2.5l-.94 2.06-2.06.94zm10 10l.94 2.06.94-2.06 2.06-.94-2.06-.94-.94-2.06-.94 2.06-2.06.94z\"/><path d=\"M17.41 7.96l-1.37-1.37c-.4-.4-.92-.59-1.43-.59-.52 0-1.04.2-1.43.59L10.3 9.45l-7.72 7.72c-.78.78-.78 2.05 0 2.83L4 21.41c.39.39.9.59 1.41.59.51 0 1.02-.2 1.41-.59l7.78-7.78 2.81-2.81c.8-.78.8-2.07 0-2.86zM5.41 20L4 18.59l7.72-7.72 1.47 1.35L5.41 20z\"/>\n",
       "  </svg>\n",
       "      </button>\n",
       "      \n",
       "  <style>\n",
       "    .colab-df-container {\n",
       "      display:flex;\n",
       "      flex-wrap:wrap;\n",
       "      gap: 12px;\n",
       "    }\n",
       "\n",
       "    .colab-df-convert {\n",
       "      background-color: #E8F0FE;\n",
       "      border: none;\n",
       "      border-radius: 50%;\n",
       "      cursor: pointer;\n",
       "      display: none;\n",
       "      fill: #1967D2;\n",
       "      height: 32px;\n",
       "      padding: 0 0 0 0;\n",
       "      width: 32px;\n",
       "    }\n",
       "\n",
       "    .colab-df-convert:hover {\n",
       "      background-color: #E2EBFA;\n",
       "      box-shadow: 0px 1px 2px rgba(60, 64, 67, 0.3), 0px 1px 3px 1px rgba(60, 64, 67, 0.15);\n",
       "      fill: #174EA6;\n",
       "    }\n",
       "\n",
       "    [theme=dark] .colab-df-convert {\n",
       "      background-color: #3B4455;\n",
       "      fill: #D2E3FC;\n",
       "    }\n",
       "\n",
       "    [theme=dark] .colab-df-convert:hover {\n",
       "      background-color: #434B5C;\n",
       "      box-shadow: 0px 1px 3px 1px rgba(0, 0, 0, 0.15);\n",
       "      filter: drop-shadow(0px 1px 2px rgba(0, 0, 0, 0.3));\n",
       "      fill: #FFFFFF;\n",
       "    }\n",
       "  </style>\n",
       "\n",
       "      <script>\n",
       "        const buttonEl =\n",
       "          document.querySelector('#df-91cd0eff-2b39-4aff-a63d-fcb259af52f7 button.colab-df-convert');\n",
       "        buttonEl.style.display =\n",
       "          google.colab.kernel.accessAllowed ? 'block' : 'none';\n",
       "\n",
       "        async function convertToInteractive(key) {\n",
       "          const element = document.querySelector('#df-91cd0eff-2b39-4aff-a63d-fcb259af52f7');\n",
       "          const dataTable =\n",
       "            await google.colab.kernel.invokeFunction('convertToInteractive',\n",
       "                                                     [key], {});\n",
       "          if (!dataTable) return;\n",
       "\n",
       "          const docLinkHtml = 'Like what you see? Visit the ' +\n",
       "            '<a target=\"_blank\" href=https://colab.research.google.com/notebooks/data_table.ipynb>data table notebook</a>'\n",
       "            + ' to learn more about interactive tables.';\n",
       "          element.innerHTML = '';\n",
       "          dataTable['output_type'] = 'display_data';\n",
       "          await google.colab.output.renderOutput(dataTable, element);\n",
       "          const docLink = document.createElement('div');\n",
       "          docLink.innerHTML = docLinkHtml;\n",
       "          element.appendChild(docLink);\n",
       "        }\n",
       "      </script>\n",
       "    </div>\n",
       "  </div>\n",
       "  "
      ],
      "text/plain": [
       "                                             content  label\n",
       "0  AI 이미지 생성기의 무분별한 사용과 악용을 막기 위한 법적 규제에 관한 청원 AI...      1\n",
       "1  아동학대살인 가해자의 엄벌과 신상공개에 관한 청원 저는 얼마전 아동학대로 살해당한 ...      1\n",
       "2  중도금 가산금리 인하 및 시스템 개편에 관한 청원 정부에서 지역별 중도금 가산금리에...      1\n",
       "3  한전은 공기업, 송전시장 민영화 반대에 관한 청원 자금난으로 인한 민간에 송전시장을...      1\n",
       "4  12년간 당한 학교폭력에 관한 청원 저는 OO초등학교 2003년 입학, OO초등학교...      1"
      ]
     },
     "execution_count": 2,
     "metadata": {},
     "output_type": "execute_result"
    }
   ],
   "source": [
    "df = pd.read_csv('Petition_data_advised.csv')\n",
    "df.head()"
   ]
  },
  {
   "cell_type": "markdown",
   "metadata": {
    "id": "uvrBjb8ULpag"
   },
   "source": [
    "# Data Preprocessing"
   ]
  },
  {
   "cell_type": "code",
   "execution_count": 3,
   "metadata": {
    "executionInfo": {
     "elapsed": 455,
     "status": "ok",
     "timestamp": 1683595424900,
     "user": {
      "displayName": "지윤혁",
      "userId": "04177548454162400970"
     },
     "user_tz": -540
    },
    "id": "6xKS10i_XysI"
   },
   "outputs": [],
   "source": [
    "def korean_preprocessing(text):\n",
    "    # 1. 특수문자 제거\n",
    "    text = re.sub('[^가-힣ㄱ-ㅎㅏ-ㅣa-zA-Z0-9 ]', '', text)\n",
    "    \n",
    "    # 2. 불용어 제거\n",
    "    tokenizer = Mecab()\n",
    "    stopwords = ['을', '를', '이', '가', '은', '는', '의', '에', '와', '과', '도', '다', '로', '라', '지', '든지', '어디', '혹시', '어느', '여기', '저기']\n",
    "    tokens = tokenizer.morphs(text)\n",
    "    tokens = [token for token in tokens if not token in stopwords]\n",
    "    \n",
    "    # 3. 어절 분리\n",
    "    words = []\n",
    "    for token in tokens:\n",
    "        words.extend(token.split())\n",
    "    \n",
    "    # 4. 표준화\n",
    "    words = [word.strip() for word in words]\n",
    "    words = [word for word in words if len(word) > 1]\n",
    "    \n",
    "    # 5. 정규화\n",
    "    okt = Okt()\n",
    "    normalized_words = []\n",
    "    for word in words:\n",
    "        normalized_words.append(okt.normalize(word))\n",
    "    \n",
    "    # 6. 최종 결과 반환\n",
    "    result = ' '.join(normalized_words)\n",
    "    return result"
   ]
  },
  {
   "cell_type": "code",
   "execution_count": 4,
   "metadata": {
    "colab": {
     "base_uri": "https://localhost:8080/",
     "height": 337
    },
    "executionInfo": {
     "elapsed": 31010,
     "status": "ok",
     "timestamp": 1683595458068,
     "user": {
      "displayName": "지윤혁",
      "userId": "04177548454162400970"
     },
     "user_tz": -540
    },
    "id": "1SYlbpRwYDbQ",
    "outputId": "bb7ffe55-17e8-4050-da14-81139a5e90ef"
   },
   "outputs": [
    {
     "data": {
      "text/html": [
       "\n",
       "  <div id=\"df-0b4c12ed-05f6-4d27-8d16-da5f40f4989a\">\n",
       "    <div class=\"colab-df-container\">\n",
       "      <div>\n",
       "<style scoped>\n",
       "    .dataframe tbody tr th:only-of-type {\n",
       "        vertical-align: middle;\n",
       "    }\n",
       "\n",
       "    .dataframe tbody tr th {\n",
       "        vertical-align: top;\n",
       "    }\n",
       "\n",
       "    .dataframe thead th {\n",
       "        text-align: right;\n",
       "    }\n",
       "</style>\n",
       "<table border=\"1\" class=\"dataframe\">\n",
       "  <thead>\n",
       "    <tr style=\"text-align: right;\">\n",
       "      <th></th>\n",
       "      <th>content</th>\n",
       "      <th>label</th>\n",
       "      <th>tokenized</th>\n",
       "    </tr>\n",
       "  </thead>\n",
       "  <tbody>\n",
       "    <tr>\n",
       "      <th>0</th>\n",
       "      <td>AI 이미지 생성기의 무분별한 사용과 악용을 막기 위한 법적 규제에 관한 청원 AI...</td>\n",
       "      <td>1</td>\n",
       "      <td>AI 이미지 생성기 무분별 사용 악용 위한 규제 관한 청원 AI 이미지 생성기 개발...</td>\n",
       "    </tr>\n",
       "    <tr>\n",
       "      <th>1</th>\n",
       "      <td>아동학대살인 가해자의 엄벌과 신상공개에 관한 청원 저는 얼마전 아동학대로 살해당한 ...</td>\n",
       "      <td>1</td>\n",
       "      <td>아동학 대살 가해자 엄벌 신상 공개 관한 청원 얼마 아동학 대로 해당 아이 삼촌 입...</td>\n",
       "    </tr>\n",
       "    <tr>\n",
       "      <th>2</th>\n",
       "      <td>중도금 가산금리 인하 및 시스템 개편에 관한 청원 정부에서 지역별 중도금 가산금리에...</td>\n",
       "      <td>1</td>\n",
       "      <td>중도금 가산 금리 인하 시스템 개편 관한 청원 정부 에서 지역 중도금 가산 금리 대...</td>\n",
       "    </tr>\n",
       "    <tr>\n",
       "      <th>3</th>\n",
       "      <td>한전은 공기업, 송전시장 민영화 반대에 관한 청원 자금난으로 인한 민간에 송전시장을...</td>\n",
       "      <td>1</td>\n",
       "      <td>한전 공기업 송전 시장 민영화 반대 관한 청원 자금난 으로 인한 민간 송전 시장 민...</td>\n",
       "    </tr>\n",
       "    <tr>\n",
       "      <th>4</th>\n",
       "      <td>12년간 당한 학교폭력에 관한 청원 저는 OO초등학교 2003년 입학, OO초등학교...</td>\n",
       "      <td>1</td>\n",
       "      <td>12 당한 학교 폭력 관한 청원 OO 초등 학교 2003 입학 OO 초등 학교 에서...</td>\n",
       "    </tr>\n",
       "  </tbody>\n",
       "</table>\n",
       "</div>\n",
       "      <button class=\"colab-df-convert\" onclick=\"convertToInteractive('df-0b4c12ed-05f6-4d27-8d16-da5f40f4989a')\"\n",
       "              title=\"Convert this dataframe to an interactive table.\"\n",
       "              style=\"display:none;\">\n",
       "        \n",
       "  <svg xmlns=\"http://www.w3.org/2000/svg\" height=\"24px\"viewBox=\"0 0 24 24\"\n",
       "       width=\"24px\">\n",
       "    <path d=\"M0 0h24v24H0V0z\" fill=\"none\"/>\n",
       "    <path d=\"M18.56 5.44l.94 2.06.94-2.06 2.06-.94-2.06-.94-.94-2.06-.94 2.06-2.06.94zm-11 1L8.5 8.5l.94-2.06 2.06-.94-2.06-.94L8.5 2.5l-.94 2.06-2.06.94zm10 10l.94 2.06.94-2.06 2.06-.94-2.06-.94-.94-2.06-.94 2.06-2.06.94z\"/><path d=\"M17.41 7.96l-1.37-1.37c-.4-.4-.92-.59-1.43-.59-.52 0-1.04.2-1.43.59L10.3 9.45l-7.72 7.72c-.78.78-.78 2.05 0 2.83L4 21.41c.39.39.9.59 1.41.59.51 0 1.02-.2 1.41-.59l7.78-7.78 2.81-2.81c.8-.78.8-2.07 0-2.86zM5.41 20L4 18.59l7.72-7.72 1.47 1.35L5.41 20z\"/>\n",
       "  </svg>\n",
       "      </button>\n",
       "      \n",
       "  <style>\n",
       "    .colab-df-container {\n",
       "      display:flex;\n",
       "      flex-wrap:wrap;\n",
       "      gap: 12px;\n",
       "    }\n",
       "\n",
       "    .colab-df-convert {\n",
       "      background-color: #E8F0FE;\n",
       "      border: none;\n",
       "      border-radius: 50%;\n",
       "      cursor: pointer;\n",
       "      display: none;\n",
       "      fill: #1967D2;\n",
       "      height: 32px;\n",
       "      padding: 0 0 0 0;\n",
       "      width: 32px;\n",
       "    }\n",
       "\n",
       "    .colab-df-convert:hover {\n",
       "      background-color: #E2EBFA;\n",
       "      box-shadow: 0px 1px 2px rgba(60, 64, 67, 0.3), 0px 1px 3px 1px rgba(60, 64, 67, 0.15);\n",
       "      fill: #174EA6;\n",
       "    }\n",
       "\n",
       "    [theme=dark] .colab-df-convert {\n",
       "      background-color: #3B4455;\n",
       "      fill: #D2E3FC;\n",
       "    }\n",
       "\n",
       "    [theme=dark] .colab-df-convert:hover {\n",
       "      background-color: #434B5C;\n",
       "      box-shadow: 0px 1px 3px 1px rgba(0, 0, 0, 0.15);\n",
       "      filter: drop-shadow(0px 1px 2px rgba(0, 0, 0, 0.3));\n",
       "      fill: #FFFFFF;\n",
       "    }\n",
       "  </style>\n",
       "\n",
       "      <script>\n",
       "        const buttonEl =\n",
       "          document.querySelector('#df-0b4c12ed-05f6-4d27-8d16-da5f40f4989a button.colab-df-convert');\n",
       "        buttonEl.style.display =\n",
       "          google.colab.kernel.accessAllowed ? 'block' : 'none';\n",
       "\n",
       "        async function convertToInteractive(key) {\n",
       "          const element = document.querySelector('#df-0b4c12ed-05f6-4d27-8d16-da5f40f4989a');\n",
       "          const dataTable =\n",
       "            await google.colab.kernel.invokeFunction('convertToInteractive',\n",
       "                                                     [key], {});\n",
       "          if (!dataTable) return;\n",
       "\n",
       "          const docLinkHtml = 'Like what you see? Visit the ' +\n",
       "            '<a target=\"_blank\" href=https://colab.research.google.com/notebooks/data_table.ipynb>data table notebook</a>'\n",
       "            + ' to learn more about interactive tables.';\n",
       "          element.innerHTML = '';\n",
       "          dataTable['output_type'] = 'display_data';\n",
       "          await google.colab.output.renderOutput(dataTable, element);\n",
       "          const docLink = document.createElement('div');\n",
       "          docLink.innerHTML = docLinkHtml;\n",
       "          element.appendChild(docLink);\n",
       "        }\n",
       "      </script>\n",
       "    </div>\n",
       "  </div>\n",
       "  "
      ],
      "text/plain": [
       "                                             content  label  \\\n",
       "0  AI 이미지 생성기의 무분별한 사용과 악용을 막기 위한 법적 규제에 관한 청원 AI...      1   \n",
       "1  아동학대살인 가해자의 엄벌과 신상공개에 관한 청원 저는 얼마전 아동학대로 살해당한 ...      1   \n",
       "2  중도금 가산금리 인하 및 시스템 개편에 관한 청원 정부에서 지역별 중도금 가산금리에...      1   \n",
       "3  한전은 공기업, 송전시장 민영화 반대에 관한 청원 자금난으로 인한 민간에 송전시장을...      1   \n",
       "4  12년간 당한 학교폭력에 관한 청원 저는 OO초등학교 2003년 입학, OO초등학교...      1   \n",
       "\n",
       "                                           tokenized  \n",
       "0  AI 이미지 생성기 무분별 사용 악용 위한 규제 관한 청원 AI 이미지 생성기 개발...  \n",
       "1  아동학 대살 가해자 엄벌 신상 공개 관한 청원 얼마 아동학 대로 해당 아이 삼촌 입...  \n",
       "2  중도금 가산 금리 인하 시스템 개편 관한 청원 정부 에서 지역 중도금 가산 금리 대...  \n",
       "3  한전 공기업 송전 시장 민영화 반대 관한 청원 자금난 으로 인한 민간 송전 시장 민...  \n",
       "4  12 당한 학교 폭력 관한 청원 OO 초등 학교 2003 입학 OO 초등 학교 에서...  "
      ]
     },
     "execution_count": 4,
     "metadata": {},
     "output_type": "execute_result"
    }
   ],
   "source": [
    "df['tokenized'] = df['content'].apply(korean_preprocessing)\n",
    "df.head()"
   ]
  },
  {
   "cell_type": "markdown",
   "metadata": {
    "id": "ruPhJMM0cz22"
   },
   "source": [
    "#### Train, Test 분리"
   ]
  },
  {
   "cell_type": "code",
   "execution_count": 5,
   "metadata": {
    "colab": {
     "base_uri": "https://localhost:8080/"
    },
    "executionInfo": {
     "elapsed": 287,
     "status": "ok",
     "timestamp": 1683595480346,
     "user": {
      "displayName": "지윤혁",
      "userId": "04177548454162400970"
     },
     "user_tz": -540
    },
    "id": "2jxscxqFcyc5",
    "outputId": "7387c954-5f23-4ef8-b275-f5fd490eb49e"
   },
   "outputs": [
    {
     "data": {
      "text/plain": [
       "((431,), (108,), (431,), (108,))"
      ]
     },
     "execution_count": 5,
     "metadata": {},
     "output_type": "execute_result"
    }
   ],
   "source": [
    "X_train, X_test, y_train, y_test = train_test_split(df['tokenized'], df['label'], stratify = df['label'], random_state = 0, test_size=0.2)\n",
    "X_train.shape, X_test.shape, y_train.shape, y_test.shape"
   ]
  },
  {
   "cell_type": "markdown",
   "metadata": {
    "id": "EmMRoJOic2hU"
   },
   "source": [
    "#### 토크나이징 및 패딩작업 진행"
   ]
  },
  {
   "cell_type": "code",
   "execution_count": 6,
   "metadata": {
    "executionInfo": {
     "elapsed": 2,
     "status": "ok",
     "timestamp": 1683595482367,
     "user": {
      "displayName": "지윤혁",
      "userId": "04177548454162400970"
     },
     "user_tz": -540
    },
    "id": "4v1yfOjVYDiN"
   },
   "outputs": [],
   "source": [
    "def preprocess(df):\n",
    "    \n",
    "    # 전처리된 문장에서 토큰 생성\n",
    "    tokenizer = Tokenizer(oov_token='<UNK>')\n",
    "    tokenizer.fit_on_texts(df)\n",
    "    tokens = tokenizer.texts_to_sequences(df)\n",
    "\n",
    "    df_wordcount = pd.DataFrame(list(tokenizer.word_counts.items()), columns=['word', 'count'])\n",
    "    wc = df_wordcount[df_wordcount['count']<2].shape[0]\n",
    "    vocab_size = len(tokenizer.word_index) - wc + 2\n",
    "    print('단어 집합의 크기:', vocab_size)\n",
    "    \n",
    "    # 패딩\n",
    "    max_seq_len = max([len(token_list) for token_list in tokens])\n",
    "    padded_tokens = pad_sequences(tokens, maxlen=400, padding='post')\n",
    "    print(f'max len: {max_seq_len}')\n",
    "\n",
    "    return padded_tokens"
   ]
  },
  {
   "cell_type": "code",
   "execution_count": 7,
   "metadata": {
    "colab": {
     "base_uri": "https://localhost:8080/"
    },
    "executionInfo": {
     "elapsed": 6,
     "status": "ok",
     "timestamp": 1683595483926,
     "user": {
      "displayName": "지윤혁",
      "userId": "04177548454162400970"
     },
     "user_tz": -540
    },
    "id": "YHYiOKeScbxQ",
    "outputId": "d30af1e1-085e-4142-c9af-b55b95467c11"
   },
   "outputs": [
    {
     "name": "stdout",
     "output_type": "stream",
     "text": [
      "단어 집합의 크기: 6901\n",
      "max len: 425\n",
      "단어 집합의 크기: 2842\n",
      "max len: 424\n"
     ]
    }
   ],
   "source": [
    "X_train = preprocess(X_train)\n",
    "X_test = preprocess(X_test)"
   ]
  },
  {
   "cell_type": "markdown",
   "metadata": {
    "id": "gfPM2CYKdJ18"
   },
   "source": [
    "# Modeling"
   ]
  },
  {
   "cell_type": "code",
   "execution_count": 8,
   "metadata": {
    "executionInfo": {
     "elapsed": 294,
     "status": "ok",
     "timestamp": 1683595486356,
     "user": {
      "displayName": "지윤혁",
      "userId": "04177548454162400970"
     },
     "user_tz": -540
    },
    "id": "ZKPQJMt8dLZh"
   },
   "outputs": [],
   "source": [
    "class MultiHeadAttention(tf.keras.layers.Layer):\n",
    "    def __init__(self, embedding_dim, num_heads=8):\n",
    "        super(MultiHeadAttention, self).__init__()\n",
    "        self.embedding_dim = embedding_dim # d_model\n",
    "        self.num_heads = num_heads\n",
    "\n",
    "        assert embedding_dim % self.num_heads == 0\n",
    "\n",
    "        self.projection_dim = embedding_dim // num_heads\n",
    "        self.query_dense = tf.keras.layers.Dense(embedding_dim)\n",
    "        self.key_dense = tf.keras.layers.Dense(embedding_dim)\n",
    "        self.value_dense = tf.keras.layers.Dense(embedding_dim)\n",
    "        self.dense = tf.keras.layers.Dense(embedding_dim)\n",
    "\n",
    "    def scaled_dot_product_attention(self, query, key, value):\n",
    "        matmul_qk = tf.matmul(query, key, transpose_b=True)\n",
    "        depth = tf.cast(tf.shape(key)[-1], tf.float32)\n",
    "        logits = matmul_qk / tf.math.sqrt(depth)\n",
    "        attention_weights = tf.nn.softmax(logits, axis=-1)\n",
    "        output = tf.matmul(attention_weights, value)\n",
    "        return output, attention_weights\n",
    "\n",
    "    def split_heads(self, x, batch_size):\n",
    "        x = tf.reshape(x, (batch_size, -1, self.num_heads, self.projection_dim))\n",
    "        return tf.transpose(x, perm=[0, 2, 1, 3])\n",
    "\n",
    "    def call(self, inputs):\n",
    "        # x.shape = [batch_size, seq_len, embedding_dim]\n",
    "        batch_size = tf.shape(inputs)[0]\n",
    "\n",
    "        # (batch_size, seq_len, embedding_dim)\n",
    "        query = self.query_dense(inputs)\n",
    "        key = self.key_dense(inputs)\n",
    "        value = self.value_dense(inputs)\n",
    "\n",
    "        # (batch_size, num_heads, seq_len, projection_dim)\n",
    "        query = self.split_heads(query, batch_size)  \n",
    "        key = self.split_heads(key, batch_size)\n",
    "        value = self.split_heads(value, batch_size)\n",
    "\n",
    "        scaled_attention, _ = self.scaled_dot_product_attention(query, key, value)\n",
    "        # (batch_size, seq_len, num_heads, projection_dim)\n",
    "        scaled_attention = tf.transpose(scaled_attention, perm=[0, 2, 1, 3])  \n",
    "\n",
    "        # (batch_size, seq_len, embedding_dim)\n",
    "        concat_attention = tf.reshape(scaled_attention, (batch_size, -1, self.embedding_dim))\n",
    "        outputs = self.dense(concat_attention)\n",
    "        return outputs"
   ]
  },
  {
   "cell_type": "code",
   "execution_count": 9,
   "metadata": {
    "executionInfo": {
     "elapsed": 2,
     "status": "ok",
     "timestamp": 1683595487703,
     "user": {
      "displayName": "지윤혁",
      "userId": "04177548454162400970"
     },
     "user_tz": -540
    },
    "id": "ytz88cn8mB1X"
   },
   "outputs": [],
   "source": [
    "class TransformerBlock(tf.keras.layers.Layer):\n",
    "    def __init__(self, embedding_dim, num_heads, dff, rate=0.1):\n",
    "        super(TransformerBlock, self).__init__()\n",
    "        self.att = MultiHeadAttention(embedding_dim, num_heads)\n",
    "        self.ffn = tf.keras.Sequential(\n",
    "            [tf.keras.layers.Dense(dff, activation=\"relu\"),\n",
    "             tf.keras.layers.Dense(embedding_dim),]\n",
    "        )\n",
    "        self.layernorm1 = tf.keras.layers.LayerNormalization(epsilon=1e-6)\n",
    "        self.layernorm2 = tf.keras.layers.LayerNormalization(epsilon=1e-6)\n",
    "        self.dropout1 = tf.keras.layers.Dropout(rate)\n",
    "        self.dropout2 = tf.keras.layers.Dropout(rate)\n",
    "\n",
    "    def call(self, inputs, training):\n",
    "        attn_output = self.att(inputs) # 첫번째 서브층 : 멀티 헤드 어텐션\n",
    "        attn_output = self.dropout1(attn_output, training=training)\n",
    "        out1 = self.layernorm1(inputs + attn_output) # Add & Norm\n",
    "        ffn_output = self.ffn(out1) # 두번째 서브층 : 포지션 와이즈 피드 포워드 신경망\n",
    "        ffn_output = self.dropout2(ffn_output, training=training)\n",
    "        return self.layernorm2(out1 + ffn_output) # Add & Norm"
   ]
  },
  {
   "cell_type": "code",
   "execution_count": 10,
   "metadata": {
    "executionInfo": {
     "elapsed": 447,
     "status": "ok",
     "timestamp": 1683595489675,
     "user": {
      "displayName": "지윤혁",
      "userId": "04177548454162400970"
     },
     "user_tz": -540
    },
    "id": "nJC12D_SmEEo"
   },
   "outputs": [],
   "source": [
    "class TokenAndPositionEmbedding(tf.keras.layers.Layer):\n",
    "    def __init__(self, max_len, vocab_size, embedding_dim):\n",
    "        super(TokenAndPositionEmbedding, self).__init__()\n",
    "        self.token_emb = tf.keras.layers.Embedding(vocab_size, embedding_dim)\n",
    "        self.pos_emb = tf.keras.layers.Embedding(max_len, embedding_dim)\n",
    "\n",
    "    def call(self, x):\n",
    "        max_len = tf.shape(x)[-1]\n",
    "        positions = tf.range(start=0, limit=max_len, delta=1)\n",
    "        positions = self.pos_emb(positions)\n",
    "        x = self.token_emb(x)\n",
    "        return x + positions"
   ]
  },
  {
   "cell_type": "code",
   "execution_count": 11,
   "metadata": {
    "colab": {
     "base_uri": "https://localhost:8080/"
    },
    "executionInfo": {
     "elapsed": 5093,
     "status": "ok",
     "timestamp": 1683595495169,
     "user": {
      "displayName": "지윤혁",
      "userId": "04177548454162400970"
     },
     "user_tz": -540
    },
    "id": "NEo75AD5mG8r",
    "outputId": "0c7bf51a-5c6c-49b7-bc20-f88be2c9522c"
   },
   "outputs": [
    {
     "name": "stdout",
     "output_type": "stream",
     "text": [
      "Model: \"model\"\n",
      "_________________________________________________________________\n",
      " Layer (type)                Output Shape              Param #   \n",
      "=================================================================\n",
      " input_1 (InputLayer)        [(None, 400)]             0         \n",
      "                                                                 \n",
      " token_and_position_embeddin  (None, 400, 32)          233632    \n",
      " g (TokenAndPositionEmbeddin                                     \n",
      " g)                                                              \n",
      "                                                                 \n",
      " transformer_block (Transfor  (None, 400, 32)          6464      \n",
      " merBlock)                                                       \n",
      "                                                                 \n",
      " global_average_pooling1d (G  (None, 32)               0         \n",
      " lobalAveragePooling1D)                                          \n",
      "                                                                 \n",
      " dropout_2 (Dropout)         (None, 32)                0         \n",
      "                                                                 \n",
      " dense_6 (Dense)             (None, 20)                660       \n",
      "                                                                 \n",
      " dropout_3 (Dropout)         (None, 20)                0         \n",
      "                                                                 \n",
      " dense_7 (Dense)             (None, 1)                 21        \n",
      "                                                                 \n",
      "=================================================================\n",
      "Total params: 240,777\n",
      "Trainable params: 240,777\n",
      "Non-trainable params: 0\n",
      "_________________________________________________________________\n"
     ]
    }
   ],
   "source": [
    "max_len, vocab_size = 400, 6901\n",
    "embedding_dim = 32  # 각 단어의 임베딩 벡터의 차원\n",
    "num_heads = 2  # 어텐션 헤드의 수\n",
    "dff = 32  # 포지션 와이즈 피드 포워드 신경망의 은닉층의 크기\n",
    "\n",
    "inputs = tf.keras.layers.Input(shape=(max_len,))\n",
    "embedding_layer = TokenAndPositionEmbedding(max_len, vocab_size, embedding_dim)\n",
    "x = embedding_layer(inputs)\n",
    "transformer_block = TransformerBlock(embedding_dim, num_heads, dff)\n",
    "x = transformer_block(x)\n",
    "x = tf.keras.layers.GlobalAveragePooling1D()(x)\n",
    "x = tf.keras.layers.Dropout(0.2)(x)\n",
    "x = tf.keras.layers.Dense(20, activation=\"relu\")(x)\n",
    "x = tf.keras.layers.Dropout(0.2)(x)\n",
    "outputs = tf.keras.layers.Dense(1, activation=\"sigmoid\")(x)\n",
    "\n",
    "model = tf.keras.Model(inputs=inputs, outputs=outputs)\n",
    "model.summary()"
   ]
  },
  {
   "cell_type": "code",
   "execution_count": 12,
   "metadata": {
    "colab": {
     "base_uri": "https://localhost:8080/"
    },
    "executionInfo": {
     "elapsed": 52672,
     "status": "ok",
     "timestamp": 1683595555937,
     "user": {
      "displayName": "지윤혁",
      "userId": "04177548454162400970"
     },
     "user_tz": -540
    },
    "id": "BYobbUoNiaWc",
    "outputId": "3322fba1-ea17-4aac-8a05-bedc75482300"
   },
   "outputs": [
    {
     "name": "stdout",
     "output_type": "stream",
     "text": [
      "Epoch 1/50\n",
      "14/14 [==============================] - 20s 280ms/step - loss: 0.5242 - accuracy: 0.8028 - val_loss: 0.4619 - val_accuracy: 0.8241\n",
      "Epoch 2/50\n",
      "14/14 [==============================] - 3s 204ms/step - loss: 0.4859 - accuracy: 0.8167 - val_loss: 0.4602 - val_accuracy: 0.8241\n",
      "Epoch 3/50\n",
      "14/14 [==============================] - 3s 251ms/step - loss: 0.4868 - accuracy: 0.8190 - val_loss: 0.4604 - val_accuracy: 0.8241\n",
      "Epoch 4/50\n",
      "14/14 [==============================] - 4s 251ms/step - loss: 0.4426 - accuracy: 0.8190 - val_loss: 0.4578 - val_accuracy: 0.8241\n",
      "Epoch 5/50\n",
      "14/14 [==============================] - 3s 203ms/step - loss: 0.3951 - accuracy: 0.8422 - val_loss: 0.5030 - val_accuracy: 0.8241\n",
      "Epoch 6/50\n",
      "14/14 [==============================] - 3s 202ms/step - loss: 0.3442 - accuracy: 0.8631 - val_loss: 0.4571 - val_accuracy: 0.8241\n",
      "Epoch 7/50\n",
      "14/14 [==============================] - 3s 206ms/step - loss: 0.2673 - accuracy: 0.9049 - val_loss: 0.4477 - val_accuracy: 0.8241\n",
      "Epoch 8/50\n",
      "14/14 [==============================] - 2s 164ms/step - loss: 0.1609 - accuracy: 0.9582 - val_loss: 0.5196 - val_accuracy: 0.8241\n",
      "Epoch 9/50\n",
      "14/14 [==============================] - 2s 173ms/step - loss: 0.1109 - accuracy: 0.9652 - val_loss: 0.7028 - val_accuracy: 0.8241\n",
      "Epoch 10/50\n",
      "14/14 [==============================] - 3s 184ms/step - loss: 0.0760 - accuracy: 0.9814 - val_loss: 0.7919 - val_accuracy: 0.8241\n",
      "Epoch 11/50\n",
      "14/14 [==============================] - 3s 201ms/step - loss: 0.0561 - accuracy: 0.9861 - val_loss: 0.8480 - val_accuracy: 0.8241\n",
      "Epoch 12/50\n",
      "14/14 [==============================] - 3s 213ms/step - loss: 0.0444 - accuracy: 0.9930 - val_loss: 0.9603 - val_accuracy: 0.8241\n"
     ]
    }
   ],
   "source": [
    "earlystopping = EarlyStopping(monitor=\"val_loss\", patience = 5)\n",
    "\n",
    "checkpoint = ModelCheckpoint('transformer_kor.h5',\n",
    "                             save_best_only=True,\n",
    "                             save_weights_only=True,\n",
    "                             monitor='val_loss',\n",
    "                             mode='min',\n",
    "                             verbose=False)\n",
    "\n",
    "model.compile(optimizer='adam', loss='binary_crossentropy', metrics=['accuracy'])\n",
    "history = model.fit(X_train, y_train, epochs=50, callbacks=[checkpoint, earlystopping], batch_size=32, validation_data=(X_test, y_test))"
   ]
  },
  {
   "cell_type": "code",
   "execution_count": 13,
   "metadata": {
    "colab": {
     "base_uri": "https://localhost:8080/"
    },
    "executionInfo": {
     "elapsed": 1138,
     "status": "ok",
     "timestamp": 1683595559483,
     "user": {
      "displayName": "지윤혁",
      "userId": "04177548454162400970"
     },
     "user_tz": -540
    },
    "id": "b2169PUkihg0",
    "outputId": "6e4f7b47-cd38-4d5a-dc22-eabfd18d6293"
   },
   "outputs": [
    {
     "name": "stdout",
     "output_type": "stream",
     "text": [
      "4/4 [==============================] - 0s 8ms/step - loss: 0.4477 - accuracy: 0.8241\n"
     ]
    },
    {
     "data": {
      "text/plain": [
       "[0.4477483928203583, 0.8240740895271301]"
      ]
     },
     "execution_count": 13,
     "metadata": {},
     "output_type": "execute_result"
    }
   ],
   "source": [
    "# 저장된 checkpoint 로드 후 정확도 측정\n",
    "model.load_weights('transformer_kor.h5')\n",
    "model.evaluate(X_test, y_test)"
   ]
  },
  {
   "cell_type": "code",
   "execution_count": 14,
   "metadata": {
    "colab": {
     "base_uri": "https://localhost:8080/"
    },
    "executionInfo": {
     "elapsed": 388,
     "status": "ok",
     "timestamp": 1683595559870,
     "user": {
      "displayName": "지윤혁",
      "userId": "04177548454162400970"
     },
     "user_tz": -540
    },
    "id": "LcU34xWPCtEd",
    "outputId": "c09813ee-932e-4230-fea2-e1f0d159f106"
   },
   "outputs": [
    {
     "name": "stdout",
     "output_type": "stream",
     "text": [
      "4/4 [==============================] - 0s 7ms/step\n"
     ]
    },
    {
     "data": {
      "text/plain": [
       "array([0.08637891], dtype=float32)"
      ]
     },
     "execution_count": 14,
     "metadata": {},
     "output_type": "execute_result"
    }
   ],
   "source": [
    "model.predict(X_test)[0]"
   ]
  }
 ],
 "metadata": {
  "accelerator": "TPU",
  "colab": {
   "authorship_tag": "ABX9TyOxzHC1RUwVaMg/OD7KiDzy",
   "gpuType": "T4",
   "machine_shape": "hm",
   "provenance": [
    {
     "file_id": "1NwJjMSeyvNBZqkH42nJBjWqeeGUk0ID1",
     "timestamp": 1683435662014
    }
   ]
  },
  "gpuClass": "standard",
  "kernelspec": {
   "display_name": "Python 3 (ipykernel)",
   "language": "python",
   "name": "python3"
  },
  "language_info": {
   "codemirror_mode": {
    "name": "ipython",
    "version": 3
   },
   "file_extension": ".py",
   "mimetype": "text/x-python",
   "name": "python",
   "nbconvert_exporter": "python",
   "pygments_lexer": "ipython3",
   "version": "3.10.9"
  }
 },
 "nbformat": 4,
 "nbformat_minor": 1
}
