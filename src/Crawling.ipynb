{
 "cells": [
  {
   "cell_type": "markdown",
   "id": "c961efed",
   "metadata": {},
   "source": [
    "# 국민청원 데이터 크롤링을 통한 청원 결과 예측"
   ]
  },
  {
   "cell_type": "markdown",
   "id": "ff4a4d00",
   "metadata": {},
   "source": [
    "### selenium을 통해 청원 데이터 크롤링"
   ]
  },
  {
   "cell_type": "code",
   "execution_count": 1,
   "id": "669e8308",
   "metadata": {},
   "outputs": [],
   "source": [
    "from selenium import webdriver\n",
    "from webdriver_manager.chrome import ChromeDriverManager\n",
    "from selenium.webdriver.chrome.service import Service\n",
    "from selenium.webdriver.common.desired_capabilities import DesiredCapabilities\n",
    "from selenium.webdriver.common.by import By\n",
    "from selenium.webdriver.chrome.options import Options\n",
    "from selenium.webdriver.common.keys import Keys\n",
    "from bs4 import BeautifulSoup as bs\n",
    "\n",
    "import warnings\n",
    "warnings.filterwarnings(action='ignore')\n",
    "\n",
    "import time\n",
    "from tqdm import tqdm\n",
    "\n",
    "# 전처리\n",
    "import pandas as pd"
   ]
  },
  {
   "cell_type": "code",
   "execution_count": 17,
   "id": "bcea511b",
   "metadata": {},
   "outputs": [],
   "source": [
    "# 옵션 생성\n",
    "options = webdriver.ChromeOptions()\n",
    "# 창 숨기는 옵션 추가\n",
    "options.add_argument(\"headless\")\n",
    "\n",
    "# 크롬 버전에 따라 드라이버를 업데이트해주는 ChromeDriverManager\n",
    "chrome_driver = ChromeDriverManager().install()\n",
    "service = Service(chrome_driver)\n",
    "\n",
    "# ChromeDriverManager를 사용하여 더 편하게 selenium실행 가능\n",
    "driver = webdriver.Chrome(chrome_driver, options=options, service = service)\n",
    "\n",
    "# 페이지 로드 기다리기X\n",
    "caps = DesiredCapabilities().CHROME\n",
    "caps[\"pageLoadStrategy\"] = \"none\""
   ]
  },
  {
   "cell_type": "markdown",
   "id": "0e8fdd24",
   "metadata": {},
   "source": [
    "### 상태에 따라 청원의 url을 불러와줌"
   ]
  },
  {
   "cell_type": "code",
   "execution_count": 3,
   "id": "aca9614c",
   "metadata": {},
   "outputs": [],
   "source": [
    "# 성립, 미성립 청원 페이지로 이동\n",
    "URL = 'https://petitions.assembly.go.kr'\n",
    "def move_page(URL, type_num):\n",
    "    if type_num == '성립':\n",
    "        num = 2\n",
    "    elif type_num == '미성립':\n",
    "        num = 3\n",
    "    \n",
    "    # 홈페이지로 이동\n",
    "    driver.get(URL)\n",
    "    time.sleep(3)\n",
    "    \n",
    "    # 팝업 제외 버튼 클릭\n",
    "    driver.implicitly_wait(10)\n",
    "    driver.find_element(By.XPATH, r'//*[@id=\"btnClose\"]').click()\n",
    "\n",
    "    # 동의 종료 청원 클릭\n",
    "    driver.implicitly_wait(10)\n",
    "    driver.find_element(By.XPATH, r'//*[@id=\"mainMenu_list\"]/li[3]').click()\n",
    "\n",
    "    # 성립 청원 버튼 클릭\n",
    "    driver.implicitly_wait(10)\n",
    "    driver.find_element(By.XPATH, f'//*[@id=\"navsubbar\"]/ul/li[{num}]').click()"
   ]
  },
  {
   "cell_type": "markdown",
   "id": "ccfe507d",
   "metadata": {},
   "source": [
    "### 성립 청원"
   ]
  },
  {
   "cell_type": "code",
   "execution_count": 4,
   "id": "2e08c897",
   "metadata": {},
   "outputs": [],
   "source": [
    "# 페이지별로 url을 크롤링하는 함수 생성\n",
    "def crawl_url(lst):\n",
    "    # parsing\n",
    "    html = driver.page_source\n",
    "    soup = bs(html, 'html.parser')\n",
    "    # 청원 페이지 크롤링\n",
    "    contents = soup.select('.BoxWrap')\n",
    "\n",
    "    for content in contents:\n",
    "        lst.append(content.find('a')[\"href\"])\n",
    "        \n",
    "    time.sleep(1)"
   ]
  },
  {
   "cell_type": "code",
   "execution_count": 5,
   "id": "31b340e3",
   "metadata": {},
   "outputs": [],
   "source": [
    "# 다음 페이지를 클릭하는 함수 생성\n",
    "def click_next(page_num, page_type):\n",
    "    if page_type == '성립':\n",
    "        click_page = page_num+2\n",
    "\n",
    "        driver.find_element(By.XPATH, f'//*[@id=\"contentsbody\"]/div/div/div[4]/div[3]/ul/li[{click_page}]/a').click()\n",
    "        time.sleep(1)\n",
    "    elif page_type == '미성립':\n",
    "        if page_num < 6:\n",
    "            click_page = page_num+2\n",
    "\n",
    "            driver.find_element(By.XPATH, f'//*[@id=\"contentsbody\"]/div/div/div[4]/div[3]/ul/li[{click_page}]/a').click()\n",
    "            time.sleep(1)\n",
    "            \n",
    "        elif 6 <= page_num <= 61:\n",
    "            click_page = 8\n",
    "\n",
    "            driver.find_element(By.XPATH, f'//*[@id=\"contentsbody\"]/div/div/div[4]/div[3]/ul/li[{click_page}]/a').click()\n",
    "            time.sleep(1)\n",
    "        \n",
    "        elif page_num == 62:\n",
    "            click_page = 9\n",
    "            driver.find_element(By.XPATH, f'//*[@id=\"contentsbody\"]/div/div/div[4]/div[3]/ul/li[{click_page}]/a').click()\n",
    "            \n",
    "        else: # 강제종료\n",
    "            click_page = 100\n",
    "            driver.find_element(By.XPATH, f'//*[@id=\"contentsbody\"]/div/div/div[4]/div[3]/ul/li[{click_page}]/a').click()"
   ]
  },
  {
   "cell_type": "code",
   "execution_count": 6,
   "id": "9eae3daf",
   "metadata": {},
   "outputs": [],
   "source": [
    "# 차례로 모든 \n",
    "def crawler(lst, page_type):\n",
    "    # 끝까지 크롤링 해줌\n",
    "    p_n = 1\n",
    "    while True:\n",
    "        try:\n",
    "            crawl_url(lst)\n",
    "            click_next(p_n, page_type)\n",
    "            p_n += 1\n",
    "        except:\n",
    "            break"
   ]
  },
  {
   "cell_type": "code",
   "execution_count": 4,
   "id": "2bae60d6",
   "metadata": {},
   "outputs": [],
   "source": [
    "# 이동\n",
    "move_page(URL,'성립')"
   ]
  },
  {
   "cell_type": "code",
   "execution_count": 8,
   "id": "411cae06",
   "metadata": {},
   "outputs": [],
   "source": [
    "# 성립 url 크롤링\n",
    "est_urls = []\n",
    "crawler(est_urls, '성립')"
   ]
  },
  {
   "cell_type": "markdown",
   "id": "7da32e19",
   "metadata": {},
   "source": [
    "- 각 url의 데이터 수집"
   ]
  },
  {
   "cell_type": "code",
   "execution_count": 9,
   "id": "5c4e617a",
   "metadata": {},
   "outputs": [],
   "source": [
    "title = []\n",
    "likes = []\n",
    "propose = []\n",
    "contents = []\n",
    "types = []"
   ]
  },
  {
   "cell_type": "code",
   "execution_count": 10,
   "id": "7a0c2f41",
   "metadata": {},
   "outputs": [
    {
     "name": "stderr",
     "output_type": "stream",
     "text": [
      "100%|██████████████████████████████████████████████████████████████████████████████████| 51/51 [01:04<00:00,  1.27s/it]\n"
     ]
    }
   ],
   "source": [
    "for url in tqdm(est_urls):\n",
    "    est_url = URL + url\n",
    "    \n",
    "    # 홈페이지로 이동\n",
    "    driver.get(est_url)\n",
    "    time.sleep(1)\n",
    "\n",
    "    # parsing\n",
    "    html = driver.page_source\n",
    "    soup = bs(html, 'html.parser')\n",
    "\n",
    "    # 제목\n",
    "    title.append(soup.select_one('h4[title]').text.strip())\n",
    "    \n",
    "    # 카테고리\n",
    "    types.append(soup.find(\"span\", {\"class\": \"title\"}, text=\"청원분야\").find_next_sibling(\"div\").text.strip())\n",
    "    \n",
    "    # 동의자수\n",
    "    likes.append(int(soup.select_one('p.hidden').next_sibling.strip().replace(',','').replace('명','')))\n",
    "\n",
    "    # 청원 취지\n",
    "    propose.append(soup.select_one('dd.pre').text.strip())\n",
    "\n",
    "    # 리뷰 내용\n",
    "    contents.append(soup.select_one('dd.pre.contentTxt').text.strip())"
   ]
  },
  {
   "cell_type": "code",
   "execution_count": 11,
   "id": "59153434",
   "metadata": {},
   "outputs": [],
   "source": [
    "# 데이터로 병합해줌\n",
    "est_df = pd.DataFrame({'title':title, 'contents': contents, 'like':likes})"
   ]
  },
  {
   "cell_type": "markdown",
   "id": "2aa7f8d4",
   "metadata": {},
   "source": [
    "### 미성립 청원"
   ]
  },
  {
   "cell_type": "code",
   "execution_count": 18,
   "id": "505f985d",
   "metadata": {},
   "outputs": [],
   "source": [
    "move_page(URL, '미성립')"
   ]
  },
  {
   "cell_type": "code",
   "execution_count": 8,
   "id": "acfaa7d4",
   "metadata": {},
   "outputs": [],
   "source": [
    "# 미성립 url 크롤링\n",
    "in_urls = []\n",
    "crawler(in_urls, '미성립')"
   ]
  },
  {
   "cell_type": "markdown",
   "id": "ea96ebc1",
   "metadata": {},
   "source": [
    "- 각 url의 데이터 수집"
   ]
  },
  {
   "cell_type": "code",
   "execution_count": 19,
   "id": "38a51ef6",
   "metadata": {},
   "outputs": [],
   "source": [
    "title = []\n",
    "likes = []\n",
    "propose = []\n",
    "contents = []\n",
    "types = []"
   ]
  },
  {
   "cell_type": "code",
   "execution_count": 20,
   "id": "85f5bd3e",
   "metadata": {},
   "outputs": [],
   "source": [
    "for url_in in in_urls:\n",
    "    in_url = URL + url_in\n",
    "\n",
    "    # 홈페이지로 이동\n",
    "    driver.get(in_url)\n",
    "    time.sleep(1)\n",
    "\n",
    "    try:\n",
    "        alert = driver.switch_to.alert\n",
    "        alert.accept() # 경고창의 확인 버튼 클릭\n",
    "        # alert.dismiss() # 경고창의 취소 버튼 클릭\n",
    "    except:\n",
    "        pass\n",
    "\n",
    "    # parsing\n",
    "    html = driver.page_source\n",
    "    soup = bs(html, 'html.parser')\n",
    "\n",
    "    # 제목\n",
    "    title.append(soup.select_one('h4[title]').text.strip())\n",
    "\n",
    "    # 카테고리\n",
    "    types.append(soup.find(\"span\", {\"class\": \"title\"}, text=\"청원분야\").find_next_sibling(\"div\").text.strip())\n",
    "\n",
    "    # 동의자수\n",
    "    likes.append(int(soup.select_one('p.hidden').next_sibling.strip().replace(',','').replace('명','')))\n",
    "\n",
    "    # 청원 취지\n",
    "    propose.append(soup.select_one('dd.pre').text.strip())\n",
    "\n",
    "    # 리뷰 내용\n",
    "    contents.append(soup.select_one('dd.pre.contentTxt').text.strip())"
   ]
  },
  {
   "cell_type": "code",
   "execution_count": 22,
   "id": "e074bb3a",
   "metadata": {},
   "outputs": [],
   "source": [
    "# 데이터로 병합해줌\n",
    "in_df = pd.DataFrame({'title':title, 'contents': contents, 'like':likes, 'types': types})"
   ]
  },
  {
   "cell_type": "code",
   "execution_count": 24,
   "id": "b8902d38",
   "metadata": {},
   "outputs": [],
   "source": [
    "# 데이터를 csv로 저장\n",
    "in_df.to_csv('../data/non_established.csv',index = False)\n",
    "est_df.to_csv('../data/established.csv',index = False)"
   ]
  },
  {
   "cell_type": "code",
   "execution_count": 25,
   "id": "d20e327b",
   "metadata": {},
   "outputs": [],
   "source": [
    "df = pd.concat([in_df, est_df])\n",
    "df.drop_duplicates(inplace = True)"
   ]
  },
  {
   "cell_type": "code",
   "execution_count": 26,
   "id": "d613ac56",
   "metadata": {},
   "outputs": [
    {
     "data": {
      "text/html": [
       "<div>\n",
       "<style scoped>\n",
       "    .dataframe tbody tr th:only-of-type {\n",
       "        vertical-align: middle;\n",
       "    }\n",
       "\n",
       "    .dataframe tbody tr th {\n",
       "        vertical-align: top;\n",
       "    }\n",
       "\n",
       "    .dataframe thead th {\n",
       "        text-align: right;\n",
       "    }\n",
       "</style>\n",
       "<table border=\"1\" class=\"dataframe\">\n",
       "  <thead>\n",
       "    <tr style=\"text-align: right;\">\n",
       "      <th></th>\n",
       "      <th>title</th>\n",
       "      <th>contents</th>\n",
       "      <th>like</th>\n",
       "    </tr>\n",
       "  </thead>\n",
       "  <tbody>\n",
       "    <tr>\n",
       "      <th>0</th>\n",
       "      <td>AI 이미지 생성기의 무분별한 사용과 악용을 막기 위한 법적 규제에 관한 청원</td>\n",
       "      <td>AI 이미지 생성기의 개발은 콘텐츠 산업을 새로운 혁신을 가져다 줄 큰 잠재력을 가...</td>\n",
       "      <td>50000</td>\n",
       "    </tr>\n",
       "    <tr>\n",
       "      <th>1</th>\n",
       "      <td>아동학대살인 가해자의 엄벌과 신상공개에 관한 청원</td>\n",
       "      <td>저는 얼마전 아동학대로 살해당한 한 아이의 삼촌입니다\\r\\n아동학대 사건의 형량 상...</td>\n",
       "      <td>50000</td>\n",
       "    </tr>\n",
       "    <tr>\n",
       "      <th>2</th>\n",
       "      <td>중도금 가산금리 인하 및 시스템 개편에 관한 청원</td>\n",
       "      <td>정부에서 지역별 중도금 가산금리에 대한 차등을 두는것을 아시는지요?\\r\\n은행에서는...</td>\n",
       "      <td>50000</td>\n",
       "    </tr>\n",
       "    <tr>\n",
       "      <th>3</th>\n",
       "      <td>한전은 공기업, 송전시장 민영화 반대에 관한 청원</td>\n",
       "      <td>자금난으로 인한 민간에 송전시장을 민영화보다 차라리 전기요금을 올리세요!\\r\\n\\r...</td>\n",
       "      <td>50000</td>\n",
       "    </tr>\n",
       "    <tr>\n",
       "      <th>4</th>\n",
       "      <td>12년간 당한 학교폭력에 관한 청원</td>\n",
       "      <td>저는 OO초등학교 2003년 입학, OO초등학교에서 2005년 3학년 무렵 OOOO...</td>\n",
       "      <td>50000</td>\n",
       "    </tr>\n",
       "  </tbody>\n",
       "</table>\n",
       "</div>"
      ],
      "text/plain": [
       "                                         title  \\\n",
       "0  AI 이미지 생성기의 무분별한 사용과 악용을 막기 위한 법적 규제에 관한 청원   \n",
       "1                  아동학대살인 가해자의 엄벌과 신상공개에 관한 청원   \n",
       "2                  중도금 가산금리 인하 및 시스템 개편에 관한 청원   \n",
       "3                  한전은 공기업, 송전시장 민영화 반대에 관한 청원   \n",
       "4                          12년간 당한 학교폭력에 관한 청원   \n",
       "\n",
       "                                            contents   like  \n",
       "0  AI 이미지 생성기의 개발은 콘텐츠 산업을 새로운 혁신을 가져다 줄 큰 잠재력을 가...  50000  \n",
       "1  저는 얼마전 아동학대로 살해당한 한 아이의 삼촌입니다\\r\\n아동학대 사건의 형량 상...  50000  \n",
       "2  정부에서 지역별 중도금 가산금리에 대한 차등을 두는것을 아시는지요?\\r\\n은행에서는...  50000  \n",
       "3  자금난으로 인한 민간에 송전시장을 민영화보다 차라리 전기요금을 올리세요!\\r\\n\\r...  50000  \n",
       "4  저는 OO초등학교 2003년 입학, OO초등학교에서 2005년 3학년 무렵 OOOO...  50000  "
      ]
     },
     "execution_count": 26,
     "metadata": {},
     "output_type": "execute_result"
    }
   ],
   "source": [
    "df.head()"
   ]
  },
  {
   "cell_type": "code",
   "execution_count": 27,
   "id": "0d817135",
   "metadata": {},
   "outputs": [],
   "source": [
    "df.to_csv('../data/Petition_data.csv', index = False)"
   ]
  },
  {
   "cell_type": "markdown",
   "id": "765181a6",
   "metadata": {},
   "source": [
    "#### 전처리 후 코드 csv 파일로 저장"
   ]
  },
  {
   "cell_type": "code",
   "execution_count": null,
   "id": "f8b9e491",
   "metadata": {},
   "outputs": [],
   "source": [
    "def remove_newline(x):\n",
    "    x = x.replace('\\n', ' ')\n",
    "    x = re.sub('\\r', '', x)\n",
    "    x = re.sub('\\n', '', x)\n",
    "    return x"
   ]
  },
  {
   "cell_type": "code",
   "execution_count": 3,
   "id": "1f15ca98",
   "metadata": {},
   "outputs": [
    {
     "data": {
      "text/html": [
       "<div>\n",
       "<style scoped>\n",
       "    .dataframe tbody tr th:only-of-type {\n",
       "        vertical-align: middle;\n",
       "    }\n",
       "\n",
       "    .dataframe tbody tr th {\n",
       "        vertical-align: top;\n",
       "    }\n",
       "\n",
       "    .dataframe thead th {\n",
       "        text-align: right;\n",
       "    }\n",
       "</style>\n",
       "<table border=\"1\" class=\"dataframe\">\n",
       "  <thead>\n",
       "    <tr style=\"text-align: right;\">\n",
       "      <th></th>\n",
       "      <th>content</th>\n",
       "      <th>like</th>\n",
       "    </tr>\n",
       "  </thead>\n",
       "  <tbody>\n",
       "    <tr>\n",
       "      <th>0</th>\n",
       "      <td>AI 이미지 생성기의 무분별한 사용과 악용을 막기 위한 법적 규제에 관한 청원 AI...</td>\n",
       "      <td>50000</td>\n",
       "    </tr>\n",
       "    <tr>\n",
       "      <th>1</th>\n",
       "      <td>아동학대살인 가해자의 엄벌과 신상공개에 관한 청원 저는 얼마전 아동학대로 살해당한 ...</td>\n",
       "      <td>50000</td>\n",
       "    </tr>\n",
       "    <tr>\n",
       "      <th>2</th>\n",
       "      <td>중도금 가산금리 인하 및 시스템 개편에 관한 청원 정부에서 지역별 중도금 가산금리에...</td>\n",
       "      <td>50000</td>\n",
       "    </tr>\n",
       "    <tr>\n",
       "      <th>3</th>\n",
       "      <td>한전은 공기업, 송전시장 민영화 반대에 관한 청원 자금난으로 인한 민간에 송전시장을...</td>\n",
       "      <td>50000</td>\n",
       "    </tr>\n",
       "    <tr>\n",
       "      <th>4</th>\n",
       "      <td>12년간 당한 학교폭력에 관한 청원 저는 OO초등학교 2003년 입학, OO초등학교...</td>\n",
       "      <td>50000</td>\n",
       "    </tr>\n",
       "  </tbody>\n",
       "</table>\n",
       "</div>"
      ],
      "text/plain": [
       "                                             content   like\n",
       "0  AI 이미지 생성기의 무분별한 사용과 악용을 막기 위한 법적 규제에 관한 청원 AI...  50000\n",
       "1  아동학대살인 가해자의 엄벌과 신상공개에 관한 청원 저는 얼마전 아동학대로 살해당한 ...  50000\n",
       "2  중도금 가산금리 인하 및 시스템 개편에 관한 청원 정부에서 지역별 중도금 가산금리에...  50000\n",
       "3  한전은 공기업, 송전시장 민영화 반대에 관한 청원 자금난으로 인한 민간에 송전시장을...  50000\n",
       "4  12년간 당한 학교폭력에 관한 청원 저는 OO초등학교 2003년 입학, OO초등학교...  50000"
      ]
     },
     "execution_count": 3,
     "metadata": {},
     "output_type": "execute_result"
    }
   ],
   "source": [
    "df['content'] = df['contents'].apply(remove_newline)\n",
    "df['content'] = df['title'] + ' ' + df['content']\n",
    "df = df.loc[:, ['content', 'like']]\n",
    "df.head()"
   ]
  },
  {
   "cell_type": "code",
   "execution_count": 5,
   "id": "d6080ad8",
   "metadata": {},
   "outputs": [
    {
     "data": {
      "text/html": [
       "<div>\n",
       "<style scoped>\n",
       "    .dataframe tbody tr th:only-of-type {\n",
       "        vertical-align: middle;\n",
       "    }\n",
       "\n",
       "    .dataframe tbody tr th {\n",
       "        vertical-align: top;\n",
       "    }\n",
       "\n",
       "    .dataframe thead th {\n",
       "        text-align: right;\n",
       "    }\n",
       "</style>\n",
       "<table border=\"1\" class=\"dataframe\">\n",
       "  <thead>\n",
       "    <tr style=\"text-align: right;\">\n",
       "      <th></th>\n",
       "      <th>content</th>\n",
       "      <th>label</th>\n",
       "    </tr>\n",
       "  </thead>\n",
       "  <tbody>\n",
       "    <tr>\n",
       "      <th>0</th>\n",
       "      <td>AI 이미지 생성기의 무분별한 사용과 악용을 막기 위한 법적 규제에 관한 청원 AI...</td>\n",
       "      <td>1</td>\n",
       "    </tr>\n",
       "    <tr>\n",
       "      <th>1</th>\n",
       "      <td>아동학대살인 가해자의 엄벌과 신상공개에 관한 청원 저는 얼마전 아동학대로 살해당한 ...</td>\n",
       "      <td>1</td>\n",
       "    </tr>\n",
       "    <tr>\n",
       "      <th>2</th>\n",
       "      <td>중도금 가산금리 인하 및 시스템 개편에 관한 청원 정부에서 지역별 중도금 가산금리에...</td>\n",
       "      <td>1</td>\n",
       "    </tr>\n",
       "    <tr>\n",
       "      <th>3</th>\n",
       "      <td>한전은 공기업, 송전시장 민영화 반대에 관한 청원 자금난으로 인한 민간에 송전시장을...</td>\n",
       "      <td>1</td>\n",
       "    </tr>\n",
       "    <tr>\n",
       "      <th>4</th>\n",
       "      <td>12년간 당한 학교폭력에 관한 청원 저는 OO초등학교 2003년 입학, OO초등학교...</td>\n",
       "      <td>1</td>\n",
       "    </tr>\n",
       "  </tbody>\n",
       "</table>\n",
       "</div>"
      ],
      "text/plain": [
       "                                             content  label\n",
       "0  AI 이미지 생성기의 무분별한 사용과 악용을 막기 위한 법적 규제에 관한 청원 AI...      1\n",
       "1  아동학대살인 가해자의 엄벌과 신상공개에 관한 청원 저는 얼마전 아동학대로 살해당한 ...      1\n",
       "2  중도금 가산금리 인하 및 시스템 개편에 관한 청원 정부에서 지역별 중도금 가산금리에...      1\n",
       "3  한전은 공기업, 송전시장 민영화 반대에 관한 청원 자금난으로 인한 민간에 송전시장을...      1\n",
       "4  12년간 당한 학교폭력에 관한 청원 저는 OO초등학교 2003년 입학, OO초등학교...      1"
      ]
     },
     "execution_count": 5,
     "metadata": {},
     "output_type": "execute_result"
    }
   ],
   "source": [
    "df['label'] = np.where(df['like'] >= 10000, 1, 0)\n",
    "df = df.loc[:, ['content', 'label']]\n",
    "df.head()"
   ]
  },
  {
   "cell_type": "code",
   "execution_count": 6,
   "id": "1cc95209",
   "metadata": {},
   "outputs": [],
   "source": [
    "df.to_csv('../data/Petition_data_advised.csv', index = False)"
   ]
  },
  {
   "cell_type": "markdown",
   "id": "6bbc9111",
   "metadata": {},
   "source": [
    "----------------"
   ]
  }
 ],
 "metadata": {
  "kernelspec": {
   "display_name": "Python 3 (ipykernel)",
   "language": "python",
   "name": "python3"
  },
  "language_info": {
   "codemirror_mode": {
    "name": "ipython",
    "version": 3
   },
   "file_extension": ".py",
   "mimetype": "text/x-python",
   "name": "python",
   "nbconvert_exporter": "python",
   "pygments_lexer": "ipython3",
   "version": "3.10.9"
  }
 },
 "nbformat": 4,
 "nbformat_minor": 5
}
